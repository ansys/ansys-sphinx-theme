{
  "cells": [
    {
      "cell_type": "markdown",
      "metadata": {},
      "source": [
        "\n# Sphinx-Gallery\n\nThis example shows how to add a new example when using [Sphinx-Gallery](https://sphinx-gallery.github.io/).\n\nTo use Sphinx-Gallery, first install the package with this command:\n\n```bash\npip install sphinx-gallery\n```\nThen, add the package to the ``extensions`` variable in your Sphinx ``conf.py`` file:\n\n```python\nextensions = [\n    \"sphinx_gallery.gen_gallery\",\n]\n```\n"
      ]
    },
    {
      "cell_type": "markdown",
      "metadata": {},
      "source": [
        "## Plot a simple sphere using PyVista\nThis code plots a simple sphere using PyVista.\n\n"
      ]
    },
    {
      "cell_type": "code",
      "execution_count": null,
      "metadata": {
        "collapsed": false
      },
      "outputs": [],
      "source": [
        "import pyvista as pv\n\npv.set_jupyter_backend(\"html\")\n\nsphere = pv.Sphere()\nsphere.plot()"
      ]
    },
    {
      "cell_type": "markdown",
      "metadata": {},
      "source": [
        "Plot a simple sphere using PyVista with a plotter\n\n"
      ]
    },
    {
      "cell_type": "code",
      "execution_count": null,
      "metadata": {
        "collapsed": false
      },
      "outputs": [],
      "source": [
        "plotter = pv.Plotter(notebook=True)\nplotter.add_mesh(sphere, color=\"white\", show_edges=True)\nplotter.title = \"3D Sphere Visualization\"\nplotter.show()"
      ]
    },
    {
      "cell_type": "markdown",
      "metadata": {},
      "source": [
        "## Render equations using IPython ``math``\nThis example shows how to render equations using the IPython ``math`` module.\n\n"
      ]
    },
    {
      "cell_type": "code",
      "execution_count": null,
      "metadata": {
        "collapsed": false
      },
      "outputs": [],
      "source": [
        "from IPython.display import Math, display\n\n# LaTeX formatted equation\nequation = r\"\\int\\limits_{-\\infty}^\\infty f(x) \\delta(x - x_0) \\, dx = f(x_0)\"\n# Display the equation\ndisplay(Math(equation))"
      ]
    },
    {
      "cell_type": "code",
      "execution_count": null,
      "metadata": {
        "collapsed": false
      },
      "outputs": [],
      "source": [
        "from IPython.display import Latex\n\nLatex(r\"This is a \\LaTeX{} equation: $a^2 + b^2 = c^2$\")"
      ]
    },
    {
      "cell_type": "markdown",
      "metadata": {},
      "source": [
        "## Render a table in markdown\nThis is an example to render a table inside the markdown with Sphinx-Gallery.\n\n====== ====== =======\nA      B      A and B\n====== ====== =======\nFalse  False  False\nTrue   False  False\nFalse  True   False\nTrue   True   True\n====== ====== =======\n\n"
      ]
    },
    {
      "cell_type": "markdown",
      "metadata": {},
      "source": [
        "Render a table using pandas\n\n"
      ]
    },
    {
      "cell_type": "code",
      "execution_count": null,
      "metadata": {
        "collapsed": false
      },
      "outputs": [],
      "source": [
        "import pandas as pd\n\n# Create a dictionary of data\ndata = {\n    \"A\": [True, False, True, False],\n    \"B\": [False, True, False, True],\n    \"C\": [True, True, False, False],\n}\n\n# Create DataFrame from the dictionary\ndf = pd.DataFrame(data)\n\n# Display the DataFrame\ndf.head()"
      ]
    }
  ],
  "metadata": {
    "kernelspec": {
      "display_name": "Python 3",
      "language": "python",
      "name": "python3"
    },
    "language_info": {
      "codemirror_mode": {
        "name": "ipython",
        "version": 3
      },
      "file_extension": ".py",
      "mimetype": "text/x-python",
      "name": "python",
      "nbconvert_exporter": "python",
      "pygments_lexer": "ipython3",
      "version": "3.10.16"
    }
  },
  "nbformat": 4,
  "nbformat_minor": 0
}
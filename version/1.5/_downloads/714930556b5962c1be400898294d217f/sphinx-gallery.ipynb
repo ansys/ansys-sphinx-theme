{
  "cells": [
    {
      "cell_type": "markdown",
      "metadata": {},
      "source": [
        "\n# Sphinx-Gallery\n\nThis example shows how to add a new example when using [Sphinx-Gallery](https://sphinx-gallery.github.io/).\n\nTo use Sphinx-Gallery, first install the package with this command:\n\n```bash\npip install sphinx-gallery\n```\nThen, add the package to the ``extensions`` variable in your Sphinx ``conf.py`` file:\n\n```python\nextensions = [\n    \"sphinx_gallery.gen_gallery\",\n]\n```\n"
      ]
    },
    {
      "cell_type": "markdown",
      "metadata": {},
      "source": [
        "## Plot a simple sphere using PyVista\nThis code plots a simple sphere using PyVista.\n\n"
      ]
    },
    {
      "cell_type": "code",
      "execution_count": null,
      "metadata": {
        "collapsed": false
      },
      "outputs": [],
      "source": [
        "import pyvista as pv\n\npv.set_jupyter_backend(\"html\")\n\nsphere = pv.Sphere()\nsphere.plot()"
      ]
    },
    {
      "cell_type": "markdown",
      "metadata": {},
      "source": [
        "Plot a simple sphere using PyVista with a plotter\n\n"
      ]
    },
    {
      "cell_type": "code",
      "execution_count": null,
      "metadata": {
        "collapsed": false
      },
      "outputs": [],
      "source": [
        "plotter = pv.Plotter(notebook=True)\nplotter.add_mesh(sphere, color=\"white\", show_edges=True)\nplotter.title = \"3D Sphere Visualization\"\nplotter.show()"
      ]
    },
    {
      "cell_type": "markdown",
      "metadata": {},
      "source": [
        "## Figures with Matplotlib\nThis example shows how to render a figure using Matplotlib.\n\n"
      ]
    },
    {
      "cell_type": "code",
      "execution_count": null,
      "metadata": {
        "collapsed": false
      },
      "outputs": [],
      "source": [
        "import matplotlib.pyplot as plt\nimport numpy as np\n\ntime = np.linspace(0, 2 * np.pi, 100)\n\nfig, ax = plt.subplots()\nax.plot(time, np.cos(time), color=\"blue\", label=r\"$\\cos{(t)}$\")\nax.plot(time, np.sin(time), color=\"red\", label=r\"$\\sin{(t)}$\")\n\nax.set_xlabel(\"Time [time units]\")\nax.set_ylabel(\"Amplitude [distance units]\")\nax.set_title(\"Trigonometric functions\")\n\nplt.show()"
      ]
    },
    {
      "cell_type": "markdown",
      "metadata": {},
      "source": [
        "## Figures with Plotly\nThis example shows how to render a figure using Plotly.\n\n"
      ]
    },
    {
      "cell_type": "code",
      "execution_count": null,
      "metadata": {
        "collapsed": false
      },
      "outputs": [],
      "source": [
        "import plotly.graph_objs as go\n\n# More info: https://plotly.com/python/renderers/\n\ntime = np.linspace(0, 2 * np.pi, 100)\n\ncos_trace = go.Scatter(x=time, y=np.cos(time), mode=\"lines\", name=\"cos(t)\")\nsin_trace = go.Scatter(x=time, y=np.sin(time), mode=\"lines\", name=\"sin(t)\")\n\nfig = go.Figure(data=[cos_trace, sin_trace])\n\nfig"
      ]
    },
    {
      "cell_type": "code",
      "execution_count": null,
      "metadata": {
        "collapsed": false
      },
      "outputs": [],
      "source": [
        "import numpy as np\nimport plotly.express as px\n\ndf = px.data.tips()\nfig = px.bar(\n    df,\n    x=\"sex\",\n    y=\"total_bill\",\n    facet_col=\"day\",\n    color=\"smoker\",\n    barmode=\"group\",\n    template=\"presentation+plotly\",\n)\nfig.update_layout(height=400)\nfig"
      ]
    },
    {
      "cell_type": "markdown",
      "metadata": {},
      "source": [
        "## Render equations using IPython ``math``\nThis example shows how to render equations using the IPython ``math`` module.\n\n"
      ]
    },
    {
      "cell_type": "code",
      "execution_count": null,
      "metadata": {
        "collapsed": false
      },
      "outputs": [],
      "source": [
        "from IPython.display import Math, display\n\n# LaTeX formatted equation\nequation = r\"\\int\\limits_{-\\infty}^\\infty f(x) \\delta(x - x_0) \\, dx = f(x_0)\"\n# Display the equation\ndisplay(Math(equation))"
      ]
    },
    {
      "cell_type": "code",
      "execution_count": null,
      "metadata": {
        "collapsed": false
      },
      "outputs": [],
      "source": [
        "from IPython.display import Latex\n\nLatex(r\"This is a \\LaTeX{} equation: $a^2 + b^2 = c^2$\")"
      ]
    },
    {
      "cell_type": "markdown",
      "metadata": {},
      "source": [
        "## Render a table\nThis is an example to render a table with Sphinx-Gallery.\n\n+--------------------------------+--------------------------------+------------------------------+\n| A                              | B                              | A and B                      |\n+================================+================================+==============================+\n| False                          | False                          | False                        |\n+--------------------------------+--------------------------------+------------------------------+\n| True                           | False                          | False                        |\n+--------------------------------+--------------------------------+------------------------------+\n| False                          | True                           | False                        |\n+--------------------------------+--------------------------------+------------------------------+\n| True                           | True                           | True                         |\n+--------------------------------+--------------------------------+------------------------------+\n\n\n"
      ]
    },
    {
      "cell_type": "markdown",
      "metadata": {},
      "source": [
        "Render a table using pandas\n\n"
      ]
    },
    {
      "cell_type": "code",
      "execution_count": null,
      "metadata": {
        "collapsed": false
      },
      "outputs": [],
      "source": [
        "import pandas as pd\n\n# Create a dictionary of data\ndata = {\n    \"A\": [True, False, True, False],\n    \"B\": [False, True, False, True],\n    \"C\": [True, True, False, False],\n}\n\n# Create DataFrame from the dictionary\ndf = pd.DataFrame(data)\n\n# Display the DataFrame\ndf.head()"
      ]
    }
  ],
  "metadata": {
    "kernelspec": {
      "display_name": "Python 3",
      "language": "python",
      "name": "python3"
    },
    "language_info": {
      "codemirror_mode": {
        "name": "ipython",
        "version": 3
      },
      "file_extension": ".py",
      "mimetype": "text/x-python",
      "name": "python",
      "nbconvert_exporter": "python",
      "pygments_lexer": "ipython3",
      "version": "3.10.18"
    }
  },
  "nbformat": 4,
  "nbformat_minor": 0
}